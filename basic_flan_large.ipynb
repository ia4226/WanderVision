{
  "nbformat": 4,
  "nbformat_minor": 0,
  "metadata": {
    "colab": {
      "provenance": [],
      "toc_visible": true,
      "authorship_tag": "ABX9TyO0Q05Qx7714/zhdZvzLJYh",
      "include_colab_link": true
    },
    "kernelspec": {
      "name": "python3",
      "display_name": "Python 3"
    },
    "language_info": {
      "name": "python"
    }
  },
  "cells": [
    {
      "cell_type": "markdown",
      "metadata": {
        "id": "view-in-github",
        "colab_type": "text"
      },
      "source": [
        "<a href=\"https://colab.research.google.com/github/ia4226/WanderVision/blob/main/basic_flan_large.ipynb\" target=\"_parent\"><img src=\"https://colab.research.google.com/assets/colab-badge.svg\" alt=\"Open In Colab\"/></a>"
      ]
    },
    {
      "cell_type": "code",
      "source": [
        "from transformers import T5Tokenizer, T5ForConditionalGeneration\n",
        "\n",
        "tokenizer = T5Tokenizer.from_pretrained(\"google/flan-t5-large\")\n",
        "model = T5ForConditionalGeneration.from_pretrained(\"google/flan-t5-large\")\n",
        "\n",
        "def handle_prompts(prompts, batch_size=5):\n",
        "    all_responses = []\n",
        "    for i in range(0, len(prompts), batch_size):\n",
        "        batch = prompts[i:i+batch_size]\n",
        "        input_ids = tokenizer(batch, return_tensors=\"pt\", padding=True, truncation=True).input_ids\n",
        "        outputs = model.generate(\n",
        "            input_ids,\n",
        "            max_length=500,\n",
        "            num_beams=5,\n",
        "            temperature=0.7,\n",
        "            early_stopping=True\n",
        "        )\n",
        "        responses = [tokenizer.decode(output, skip_special_tokens=True) for output in outputs]\n",
        "        all_responses.extend(responses)\n",
        "    return all_responses\n",
        "\n",
        "if __name__ == \"__main__\":\n",
        "    prompts = [\n",
        "        \"Explain what dementia is in simple terms.\",\n",
        "        \"List the symptoms of dementia.\",\n",
        "        \"Describe how dementia affects memory.\",\n",
        "        \"What treatments are available for dementia?\",\n",
        "        \"How can someone prevent dementia?\",\n",
        "        \"What are the different stages of dementia?\"\n",
        "    ]\n",
        "\n",
        "    responses = handle_prompts(prompts, batch_size=2)\n",
        "    for i, response in enumerate(responses, start=1):\n",
        "        print(f\"{i}. {response}\")\n"
      ],
      "metadata": {
        "colab": {
          "base_uri": "https://localhost:8080/"
        },
        "id": "K-EBOwBDX-H_",
        "outputId": "3abf45ea-e385-49ed-f64c-5f9681c95341"
      },
      "execution_count": 8,
      "outputs": [
        {
          "output_type": "stream",
          "name": "stdout",
          "text": [
            "1. Alzheimer 's disease is a form of dementia .\n",
            "2. irritability slurred speech\n",
            "3. Dementia affects the nervous system .\n",
            "4. Medications\n",
            "5. To prevent dementia, eat a diet rich in fruits and vegetables.\n",
            "6. Alzheimer s disease\n"
          ]
        }
      ]
    }
  ]
}